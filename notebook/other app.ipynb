{
 "cells": [
  {
   "attachments": {},
   "cell_type": "markdown",
   "metadata": {},
   "source": [
    "Como en este momento, está familiarizado con numpy, vamos a usar numpy para obtener algunas estadísticas de datos.\n",
    "\n",
    "Primero, creemos una matriz de 20 elementos distribuidos normalmente (Gaussian):\n",
    "\n",
    "Use la función np.random.normal para crear algunos datos, usando 0,1,20 como parámetros porque queremos una matriz unidimensional de 20 números distribuidos normalmente (Gaussian)"
   ]
  },
  {
   "cell_type": "code",
   "execution_count": 10,
   "metadata": {},
   "outputs": [
    {
     "name": "stdout",
     "output_type": "stream",
     "text": [
      "Matriz de datos: [ 1.76405235  0.40015721  0.97873798  2.2408932   1.86755799 -0.97727788\n",
      "  0.95008842 -0.15135721 -0.10321885  0.4105985   0.14404357  1.45427351\n",
      "  0.76103773  0.12167502  0.44386323  0.33367433  1.49407907 -0.20515826\n",
      "  0.3130677  -0.85409574]\n"
     ]
    }
   ],
   "source": [
    "#importar bibliotecas\n",
    "import numpy as np\n",
    "\n",
    "# Establecer semilla para obtener resultados similares\n",
    "np.random.seed(0)                   #-> El argumento sirve como punto de inicio para generar los numeros aleatorios\n",
    "                                        #-> Indicamos que establezca resultados randoms pero con un nº semilla concreto.\n",
    "                                        #-> De esta manera la operacion que ejecuta random, pondra el 0 como numero semillaç\n",
    "                                            #-> De esta manera conseguimos que random \"se congele\" y cada run, no cambie el random.\n",
    "\n",
    "# crear los datos\n",
    "matriz = np.random.normal(0, 1, 20)  #-> np.random.normal: Genera matriz unidimensional de 20 numeros.\n",
    "                                        #-> En este caso: 0 es el valor de media:\n",
    "                                            #-> Esto indica que todos los elementos de la matriz seran proximos al 0 porque es la media\n",
    "                                        #-> 1: Es el valor de desviación estandar\n",
    "                                            #-> Si se tienen que acercar a 0 porque es la media el 1 es cuanto se pueden desviar de la media\n",
    "                                            #-> Este 1 indica el limite maximo la desviación de los numeros de la media 0\n",
    "                                        #-> 20: nº de elementos de nuestra matriz\n",
    "\n",
    "#imprimir resultados\n",
    "print(\"Matriz de datos:\",matriz)        #-> Print creado acorde a otra forma diferente de format (f\" string {} string )."
   ]
  },
  {
   "cell_type": "code",
   "execution_count": 11,
   "metadata": {},
   "outputs": [
    {
     "data": {
      "text/plain": [
       "0.7228107940950779"
      ]
     },
     "execution_count": 11,
     "metadata": {},
     "output_type": "execute_result"
    }
   ],
   "source": [
    "#obtener la varianza de sus datos\n",
    "np.var(matriz)          #-> Forma en que esta funcion .var funciona:\n",
    "                            #-> A traves de la formula de la varianza muestral\n",
    "                                #->  σ² = ( Σ (x-μ)² ) / N\n",
    "                                #-> 1º Suma todos los valores elevados al cuadrado.\n",
    "                                #-> 2º Divide esta suma d entre n – 1 (para una muestra) o N (para la población)"
   ]
  },
  {
   "cell_type": "code",
   "execution_count": 12,
   "metadata": {},
   "outputs": [
    {
     "data": {
      "text/plain": [
       "0.8501828003994658"
      ]
     },
     "execution_count": 12,
     "metadata": {},
     "output_type": "execute_result"
    }
   ],
   "source": [
    "# Desviación Estándar o tipica\n",
    "np.std(matriz)          #-> Teniendo en cuenta que la media es 0 y la desviación es 1 la desviacion estandar estará entre 0 y 1\n",
    "                            #->Def:Es una medida de dispersión que indica cuánto se alejan los valores de un conjunto de datos de su media\n",
    "                        #-> Forma en que esta funcion .std funciona:\n",
    "                            #-> Raiz cuadrada de la varianza\n",
    "                                #-> ¿Que es la varianza?\n",
    "                                    #-> variabilidad de una serie de datos respecto a su media\n",
    "                                    #-> Es cuanto varia de la media la suma de todos los datos (l)\n",
    "                                #-> Se puede calcular de diversas maneras (algunas):\n",
    "                                    #-> se calcula como la suma de los residuos al cuadrado divididos entre el total de observaciones\n",
    "                                    #-> como la desviación típica al cuadrado.\n",
    "                        #-> Como de separados estan los datos frente a la media\n",
    "                        #-> Cuanto menos dispersos esten los datos mas facil va a ser hacer una prediccion\n"
   ]
  },
  {
   "attachments": {},
   "cell_type": "markdown",
   "metadata": {},
   "source": [
    "\n",
    "¿Qué diferencia existe entre la varianza y la desviación típica?\n",
    "Una cuestión que se podría plantear, y con razón, sería la diferencia entre varianza y desviación típica. En realidad, vienen a medir lo mismo. La varianza es la desviación típica elevada al cuadrado. O al revés, la desviación típica es la raíz cuadrada de la varianza.\n",
    "\n",
    "La desviación típica se hace para poder trabajar en las unidades de medida iniciales. Claro que, como es normal, uno puede preguntarse, ¿de qué sirve tener como concepto la varianza? Bien, aunque la interpretación del valor que arroja no nos da demasiada información, su cálculo es necesario para obtener el valor de otros parámetros.\n",
    "\n",
    "Para calcular la covarianza necesitamos la varianza y no la desviación típica, para calcular algunas matrices econométricas se utiliza la varianza y no la desviación típica. Es una cuestión de comodidad a la hora de trabajar con los datos en según qué cálculos."
   ]
  },
  {
   "cell_type": "code",
   "execution_count": 13,
   "metadata": {},
   "outputs": [
    {
     "name": "stdout",
     "output_type": "stream",
     "text": [
      "ModeResult(mode=array([-0.97727788]), count=array([1]))\n",
      "ModeResult(mode=array([6]), count=array([7]))\n"
     ]
    },
    {
     "data": {
      "text/plain": [
       "'\\nAunque no lo pregunte el ejercicio, se deja hecho como prueba para futuro estudio\\n'"
      ]
     },
     "execution_count": 13,
     "metadata": {},
     "output_type": "execute_result"
    }
   ],
   "source": [
    "#importar bibliotecas e imprimir el modo\n",
    "from scipy import stats                     #-> Import scipy\n",
    "moda = stats.mode(matriz, keepdims=True)    #-> stats.mode ( parametro 1, paramtero2)\n",
    "                                                #-> parametro 1: matriz (el contenido al que queremos sacarle la moda)\n",
    "                                                #-> parametro 2: keepdims= True para mantener las dimensiones originales\n",
    "print (moda)\n",
    "\n",
    "\"\"\"\n",
    "RECUERDA: QUE ES LA MODA:\n",
    "-La moda es observar que numero se repite mas dentro de la matriz (\"que numero esta de moda\")\n",
    "    Cuando se encuentra la moda de una matriz, es posible que haya varios valores modales.\n",
    "    En ese caso, stats.mode() devuelve tanto el valor modal como la frecuencia con la que aparece en la matriz. \n",
    "    Por defecto, keepdims esta en False,significa que las dimensiones adicionales en la matriz de salida se eliminan si tienen una longitud de 1.   \n",
    "    Sin embargo, al establecer keepdims=True, se preservan las dimensiones originales, incluso si tienen una longitud de 1.\n",
    "        Esto es útil cuando se quiere mantener la consistencia de las dimensiones al realizar operaciones posteriores en la matriz resultante.\n",
    "\"\"\"\n",
    "\n",
    "# Moda en matriz continua con numeros repetidos\n",
    "matriz_continua = [1,3,44,6,7,53,23456,452,45,1,23,2,12,1,11,21,6,6,6,6,6,233,4,5,1,6,66,7,78]\n",
    "moda2 = stats.mode(matriz_continua, keepdims=True)\n",
    "print (moda2)\n",
    "\"\"\"\n",
    "Aunque no lo pregunte el ejercicio, se deja hecho como prueba para futuro estudio\n",
    "\"\"\"\n",
    "\n",
    "\n",
    "\n",
    "\n"
   ]
  },
  {
   "cell_type": "code",
   "execution_count": 14,
   "metadata": {},
   "outputs": [
    {
     "data": {
      "text/plain": [
       "0.4053778551527978"
      ]
     },
     "execution_count": 14,
     "metadata": {},
     "output_type": "execute_result"
    }
   ],
   "source": [
    "# Mediana\n",
    "np.median(matriz)   #-> Que es la mediana: \n",
    "                    #-> Es la posicion central de los datos (el punto medio)\n",
    "                    #-> Forma de calcular:\n",
    "                        #->Nº DATOS IMPAR:\n",
    "                            #->la mediana es el valor que ocupa la posición central después de ordenar los datosÇ\n",
    "                            #-> 1º [1, 7, 2, 5, 25] 2º ordenamos:[1, 2, 5, 7, 25] 3º la mediana es 5 (el valor que ocupa la posición central)\n",
    "                                #-> si es muy largo , ordenamos: y es la longitud de todos los datos / 2 \n",
    "                       #->Nº DATOS PAR:\n",
    "                            #->promedio de los dos valores centrales después de ordenar los datos.\n",
    "                            #-> [1, 7, 2, 5, 25] 2º  ordenarmos [1, 2, 5, 7, 25, 100] 3º la mediana es (5 + 7) / 2 = 6\n",
    "                    #-> NO CONFUNDIR MEDIANA CON LA MEDIA!\n"
   ]
  },
  {
   "cell_type": "code",
   "execution_count": 15,
   "metadata": {},
   "outputs": [
    {
     "data": {
      "text/plain": [
       "' \\nCARACTERISTICAS:\\n    -La función mean se utiliza para calcular el valor promedio de un conjunto de números.\\n    -Es una medida de tendencia central\\n    -Que se calcula sumando todos los valores y dividiendo el resultado entre el número total de elementos.\\n\\nUTIL PARA:\\n    -para resumir un conjunto de datos y obtener una idea general de su distribución. \\n    -Algunas aplicaciones:\\n\\n        1ºResumen de datos:\\n            Calcular la media proporciona una medida de referencia para resumir un conjunto de datos. \\n            Por ejemplo, si tienes una lista de edades de personas, calcular la media te dará una idea del valor promedio de edad en el grupo.\\n\\n        2ºAnálisis comparativo: \\n            La media permite comparar diferentes conjuntos de datos. \\n            Al calcular la media de dos grupos, por ejemplo, se puede determinar si hay alguna diferencia significativa entre ellos.\\n\\n        3ºImputación de valores faltantes:\\n            Si tienes un conjunto de datos con valores faltantes, la media puede usarse para imputar esos valores.\\n            Al reemplazar los valores faltantes por la media, se puede preservar la estructura general del conjunto de datos.\\n\\nEs importante tener en cuenta que la media puede verse afectada por valores atípicos o extremos en el conjunto de datos. En tales casos, otras medidas de tendencia central, como la mediana, pueden proporcionar una mejor representación del conjunto de datos.\\n'"
      ]
     },
     "execution_count": 15,
     "metadata": {},
     "output_type": "execute_result"
    }
   ],
   "source": [
    "#La media\n",
    "np.mean(matriz)\n",
    "\"\"\" \n",
    "CARACTERISTICAS:\n",
    "    -La función mean se utiliza para calcular el valor promedio de un conjunto de números.\n",
    "    -Es una medida de tendencia central\n",
    "    -Que se calcula sumando todos los valores y dividiendo el resultado entre el número total de elementos.\n",
    "\n",
    "UTIL PARA:\n",
    "    -para resumir un conjunto de datos y obtener una idea general de su distribución. \n",
    "    -Algunas aplicaciones:\n",
    "\n",
    "        1ºResumen de datos:\n",
    "            Calcular la media proporciona una medida de referencia para resumir un conjunto de datos. \n",
    "            Por ejemplo, si tienes una lista de edades de personas, calcular la media te dará una idea del valor promedio de edad en el grupo.\n",
    "\n",
    "        2ºAnálisis comparativo: \n",
    "            La media permite comparar diferentes conjuntos de datos. \n",
    "            Al calcular la media de dos grupos, por ejemplo, se puede determinar si hay alguna diferencia significativa entre ellos.\n",
    "\n",
    "        3ºImputación de valores faltantes:\n",
    "            Si tienes un conjunto de datos con valores faltantes, la media puede usarse para imputar esos valores.\n",
    "            Al reemplazar los valores faltantes por la media, se puede preservar la estructura general del conjunto de datos.\n",
    "\n",
    "Es importante tener en cuenta que la media puede verse afectada por valores atípicos o extremos en el conjunto de datos. En tales casos, otras medidas de tendencia central, como la mediana, pueden proporcionar una mejor representación del conjunto de datos.\n",
    "\"\"\""
   ]
  },
  {
   "cell_type": "code",
   "execution_count": 27,
   "metadata": {},
   "outputs": [
    {
     "name": "stdout",
     "output_type": "stream",
     "text": [
      "[0.06545155 0.40537786 1.09762186]\n",
      "0.10818138439564533\n"
     ]
    }
   ],
   "source": [
    "# Imprime los Cuartiles\n",
    "cuartiles = np.percentile(matriz, [25, 50, 75]) #-> Funcion percentiple saca los cuartiles\n",
    "                                                     #-> Definición: es dividir la martriz en 4 partes iguales\n",
    "                                                     #-> Q1 primer cuantil: el 25% \n",
    "                                                     #-> Q2 segundo cunrtil: 50 % (que es igual a la mediana)\n",
    "                                                     #-> Q3 tercer cuantil: 75%  \n",
    "                                                #-> Definicion de cuantiles: \n",
    "                                                    #-> Son los 3 valores de la variable que dividen a un conjunto de datos ordenados en 4 partes iguales\n",
    "                                                    #-> Representan los valeres 25% / 50% / 75% de los datos\n",
    "                                                    #-> para encontrar los cuartiles, 1º los dartos deben estar ordenados\n",
    "print (cuartiles)\n",
    "#-> EJEMPLO VISUAL:\n",
    "    #-> Se le pregunta a 10 personas por su edad:\n",
    "        #-> 15,16,16,16,15,16,15,18,14,16,15\n",
    "    #-> Haya los cuartiles:\n",
    "        #-> organizamos de menor a mayor o mayor a menor\n",
    "            #->14,15,15,15,15,16,16,16,16,16,18\n",
    "            #-> Q1  =>15 (REPRESENTA AL 25%) Del Q1 se puede sacar que el 25% tiene menos de 15 o 15 años\n",
    "            #-> Q2  =>16 (REPRESENTA AL 50%) Del Q2 se puede sacar que el 50% tiene menos de 16 o 16 años\n",
    "            #-> Q3 => 16 (REPRESENTA AL 75%) Del Q2 se puede sacar que el 75% tiene menos de 16 o 16 años\n",
    "\n",
    "#-> destacar: https://www.youtube.com/watch?v=suSz9RXFNTs\n",
    "\n",
    "#-> Los cuartiles son la posición del valor en el 25% / 50% / 75% del total de los datos\n",
    "\n",
    "\n",
    "#-> diferenciar percentil de cuartil\n",
    "#-> El cuartil es un cuarto de fragmento de los datos pero los percentiles pueden ser menores o mayores a los cuartiles.\n",
    "#-> un cuartiles son 25/50/75\n",
    "#-> los cuartiles pueden ser cualquier % (por ejemplo, de 100 valores el percentil 4% spondria en el 4)\n",
    "\n",
    "\n",
    "\n",
    "cuartiles2 =np.quantile (matriz,0.25)   #->Teoricamente esta funcion saca los cuartiles (pero es similar a la de percentiles)\n",
    "                                            #-> Pero si añadimos un parametro 0.67 tambien lo saca, por lo que sirve para percentiles\n",
    "                                            #-> Principal diferencia: quantile el parametro va sobre 0, y el percentile el nº va entero\n",
    "print (cuartiles2)"
   ]
  },
  {
   "attachments": {},
   "cell_type": "markdown",
   "metadata": {},
   "source": [
    "### Exercise 2\n",
    "\n",
    "Write a Python program to calculate the standard deviation of the following data:\n",
    "```py\n",
    "data = [4, 2, 5, 8, 6]\n",
    "```"
   ]
  },
  {
   "cell_type": "code",
   "execution_count": 42,
   "metadata": {},
   "outputs": [
    {
     "name": "stdout",
     "output_type": "stream",
     "text": [
      "Data: [4, 2, 5, 8, 6]\n",
      "Average 5.0\n",
      "Standard Deviation: 2.0\n"
     ]
    }
   ],
   "source": [
    "import math                                             #-> Importamos libreria\n",
    "data = [4,2,5,8,6]\n",
    "\n",
    "#--------------------------------------------------------------------------------------------------------------------------------------------\n",
    "#-> Primero e hace el promedio (average) y despues la desviación estandar (standard deviation)\n",
    "#-> Se realiza de esta forma porque vamos a necesitar la función avg_calc para calcular la standard deviation\n",
    "\n",
    "#--------------------------------------------------------------------------------------------------------------------------------------------\n",
    "\n",
    "#1º Define the average function\n",
    "def avg_calc(data):                                     #-> Vamos a calcular el promedio de los datos\n",
    "    # Calculate the sum of the data\n",
    "    data_sum = sum(data)                                #-> Suma de todos los valores de data         \n",
    "\n",
    "    # Cadef avg_calc(data):calculate the number of elements in the data\n",
    "    num_elements = len(data)                            #-> Con la funcion Len calculamos el nº de elementos de los datos\n",
    "\n",
    "    # Calculate the average\n",
    "    average = data_sum / num_elements                   #-> El promedio se consigue sumando: la suma de todos los datos y todos lo selementos.\n",
    "\n",
    "    return average\n",
    "averagecalc = avg_calc(data)\n",
    "\n",
    "#--------------------------------------------------------------------------------------------------------------------------------------------\n",
    "\n",
    "#2º  Define the standard deviation function\n",
    "    #-> Que es la desviación estandar: cuánto varían estos números en relación con su promedio.\n",
    "def sd_calc(data):                                     #-> Funcion con parametro de la lista DATA\n",
    "    # Calculate the average\n",
    "        #-> Ya esta calculado, es la variable : averagecalc\n",
    "        #-> Si no estuviese hecha anteriormente podría hacerse asi:   average = avg_calc(data)\n",
    "        #-> Se deja esta variable (inutil) unicamente como elemento de aprendizaje.\n",
    "    average = avg_calc(data)                            #-> 1º Nos indica cuanto se desvian los numero se su promedio.               \n",
    "\n",
    "    # Calculate the sum of the squared differences from the average\n",
    "    squared_diffs = [(x - averagecalc) ** 2 for x in data]  #-> 2º Tomamos cada número de la lista y le restamos el promedio. \n",
    "                                                                #-> Recuerda que el promedio lo sacaste en la función anterior\n",
    "                                                                    #-> o con la función avg_calc(data)\n",
    "                                                            #->Luego, elevamos al cuadrado el resultado. (**2)\n",
    "                                                            #-> El bucle for lo que hace es iterar la X (Cada elemento del data para la multipliación)\n",
    "    \n",
    "    sum_squared_diffs = sum(squared_diffs)              #-> 3º Hacemos esto para todos los números y sumamos todos los resultados.\n",
    "                                                            #->En nuestro caso es: (4-5)² + (2-5)² + (5-5)² + (8-5)² + (6-5)² = 14.\n",
    "\n",
    "    # Calculate the variance (average of the squared differences)\n",
    "    variance = sum_squared_diffs / len(data)            #-> 4º Luego, dividimos esta suma por la cantidad de números que teníamos, que es 5.\n",
    "                                                            #-> 14 dividido por 5 es igual a 2.8. \n",
    "                                                            #-> Esto es la Varianza\n",
    "                                                                #->mide la diferencia entre cada valor individual y el promedio del conjunto de datos.\n",
    "\n",
    "    # Calculate the standard deviation (square root of the variance)\n",
    "    standard_deviation = math.sqrt(variance)            #-> 5ºCon la funcion math.sqrt (parametro variance) calculamos la d.estandar\n",
    "                                                            #->la desviación estándar es simplemente la raíz cuadrada de la varianza.\n",
    "                                                            #->la raíz cuadrada de 2.8 es aproximadamente 1.67.\n",
    "\n",
    "    return standard_deviation                           #-> Retorno de la variable standard_deviation\n",
    "\n",
    "standard_deviation = sd_calc(data)\n",
    "\n",
    "#Prints\n",
    "print(\"Data:\", data)\n",
    "print (f\"Average {averagecalc}\")\n",
    "print(f\"Standard Deviation: {standard_deviation}\")"
   ]
  }
 ],
 "metadata": {
  "kernelspec": {
   "display_name": "base",
   "language": "python",
   "name": "python3"
  },
  "language_info": {
   "codemirror_mode": {
    "name": "ipython",
    "version": 3
   },
   "file_extension": ".py",
   "mimetype": "text/x-python",
   "name": "python",
   "nbconvert_exporter": "python",
   "pygments_lexer": "ipython3",
   "version": "3.10.9"
  },
  "orig_nbformat": 4
 },
 "nbformat": 4,
 "nbformat_minor": 2
}
